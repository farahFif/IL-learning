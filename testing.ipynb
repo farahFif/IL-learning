{
 "cells": [
  {
   "cell_type": "code",
   "execution_count": null,
   "outputs": [],
   "source": [
    "from torchvision import datasets, transforms\n",
    "import torch\n",
    "import numpy as np\n",
    "from torch.utils.data import Dataset as ds\n",
    "from torch.utils.data import DataLoader\n"
   ],
   "metadata": {
    "collapsed": false,
    "pycharm": {
     "name": "#%%\n"
    }
   }
  },
  {
   "cell_type": "code",
   "execution_count": null,
   "outputs": [],
   "source": [
    "class Incremental_setting():\n",
    "\n",
    "    def __init__(self,dataset,nb_phases,cur_phase=0):\n",
    "        self.data = dataset\n",
    "        self.nb_phases = nb_phases\n",
    "        self.cur_phase = cur_phase\n",
    "\n",
    "\n",
    "    def def_inc_per_classes(self):\n",
    "        np.random.seed(10)\n",
    "        mix  = np.zero(len(np.unique(self.data.classes)))\n",
    "        mix = np.random.randint(0,len(self.data.classes),size=len(self.data.classes))\n",
    "        print(mix)\n",
    "        mixed = list(zip(mix[::2], mix[1::2]))\n",
    "\n",
    "        if(len(classes)%2 != 0 and i+1 == len(mix)):\n",
    "            mixed.append(mix[-1])\n",
    "\n",
    "        return dict(enumerate(mixed, 0))\n"
   ],
   "metadata": {
    "collapsed": false,
    "pycharm": {
     "name": "#%%\n"
    }
   }
  },
  {
   "cell_type": "code",
   "execution_count": null,
   "outputs": [],
   "source": [
    "\n"
   ],
   "metadata": {
    "collapsed": false,
    "pycharm": {
     "name": "#%%\n"
    }
   }
  }
 ],
 "metadata": {
  "kernelspec": {
   "display_name": "Python 3",
   "language": "python",
   "name": "python3"
  },
  "language_info": {
   "codemirror_mode": {
    "name": "ipython",
    "version": 2
   },
   "file_extension": ".py",
   "mimetype": "text/x-python",
   "name": "python",
   "nbconvert_exporter": "python",
   "pygments_lexer": "ipython2",
   "version": "2.7.6"
  }
 },
 "nbformat": 4,
 "nbformat_minor": 0
}